{
 "cells": [
  {
   "cell_type": "markdown",
   "metadata": {},
   "source": [
    "Recognizing Shapes in Objects with OpenCV\n",
    "=========================================\n"
   ]
  },
  {
   "cell_type": "markdown",
   "metadata": {},
   "source": [
    "Import libraries."
   ]
  },
  {
   "cell_type": "code",
   "execution_count": null,
   "metadata": {},
   "outputs": [],
   "source": [
    "import cv2\n",
    "import numpy as np\n",
    "import os"
   ]
  },
  {
   "cell_type": "markdown",
   "metadata": {},
   "source": [
    "Image filenames."
   ]
  },
  {
   "cell_type": "code",
   "execution_count": null,
   "metadata": {},
   "outputs": [],
   "source": [
    "files = (\n",
    "    'subway.jpg',\n",
    "    'breakfast.jpg',\n",
    "    'dinner.jpg',\n",
    "    'building.jpg',\n",
    ")\n",
    "f = os.path.join('images', files[0])"
   ]
  },
  {
   "cell_type": "markdown",
   "metadata": {},
   "source": [
    "Define a function for viewing images."
   ]
  },
  {
   "cell_type": "code",
   "execution_count": null,
   "metadata": {},
   "outputs": [],
   "source": [
    "def view_image(i):\n",
    "    cv2.imshow('view', i)\n",
    "    cv2.waitKey(0)\n",
    "    cv2.destroyAllWindows()\n",
    "    "
   ]
  },
  {
   "cell_type": "markdown",
   "metadata": {},
   "source": [
    "Read an image from file."
   ]
  },
  {
   "cell_type": "code",
   "execution_count": null,
   "metadata": {},
   "outputs": [],
   "source": [
    "i = cv2.imread(f)\n",
    "view_image(i)"
   ]
  },
  {
   "cell_type": "markdown",
   "metadata": {},
   "source": [
    "Inspect image contents"
   ]
  },
  {
   "cell_type": "code",
   "execution_count": null,
   "metadata": {},
   "outputs": [],
   "source": [
    "print(i.shape)\n",
    "print(i[0,0,:])"
   ]
  },
  {
   "cell_type": "markdown",
   "metadata": {},
   "source": [
    "Gray-scale"
   ]
  },
  {
   "cell_type": "code",
   "execution_count": null,
   "metadata": {},
   "outputs": [],
   "source": [
    "i_gray = cv2.cvtColor(i, cv2.COLOR_BGR2GRAY)\n",
    "print(i_gray.shape)\n",
    "print(i_gray[0,0])\n",
    "view_image(i_gray)"
   ]
  },
  {
   "cell_type": "markdown",
   "metadata": {},
   "source": [
    "X gradient"
   ]
  },
  {
   "cell_type": "code",
   "execution_count": null,
   "metadata": {},
   "outputs": [],
   "source": [
    "sobelx = cv2.Sobel(i_gray, cv2.CV_64F, 1, 0)\n",
    "abs_sobelx = np.absolute(sobelx)\n",
    "view_image(abs_sobelx / np.max(abs_sobelx))"
   ]
  },
  {
   "cell_type": "markdown",
   "metadata": {},
   "source": [
    "Y gradient"
   ]
  },
  {
   "cell_type": "code",
   "execution_count": null,
   "metadata": {},
   "outputs": [],
   "source": [
    "sobely = cv2.Sobel(i_gray, cv2.CV_64F, 0, 1)\n",
    "abs_sobely = np.absolute(sobely)\n",
    "view_image(abs_sobely / np.max(abs_sobely))"
   ]
  },
  {
   "cell_type": "markdown",
   "metadata": {},
   "source": [
    "Magnitude of gradient vector"
   ]
  },
  {
   "cell_type": "code",
   "execution_count": null,
   "metadata": {},
   "outputs": [],
   "source": [
    "magnitude = np.sqrt(sobelx**2 + sobel**2)\n",
    "view_image(magnitude / np.max(magnitude))"
   ]
  },
  {
   "cell_type": "markdown",
   "metadata": {},
   "source": [
    "Canny edge detection"
   ]
  },
  {
   "cell_type": "code",
   "execution_count": null,
   "metadata": {},
   "outputs": [],
   "source": [
    "edges = cv2.Canny(i_gray, 200, 250)\n",
    "view_image(edges)"
   ]
  },
  {
   "cell_type": "markdown",
   "metadata": {},
   "source": [
    "Theory: Hough transforms\n",
    "\n",
    "![title](images2/line_diagram.png)\n",
    "\n",
    "![title](images2/accumulator1.png)\n",
    "\n",
    "![title](images2/edge_pixel.png)\n",
    "\n",
    "![title](images2/accumulator2.png)\n",
    "\n",
    "![title](images2/accumulator3.png)\n"
   ]
  },
  {
   "cell_type": "markdown",
   "metadata": {},
   "source": [
    "Hough transform for lines"
   ]
  },
  {
   "cell_type": "code",
   "execution_count": null,
   "metadata": {},
   "outputs": [],
   "source": [
    "lines = cv2.houghLinesP(\n",
    "    edges,\n",
    "    rho=1,\n",
    "    theta=1. * np.pi/180.0,\n",
    "    threshold=20,\n",
    "    minLineLength=25,\n",
    "    maxLineGap=5,\n",
    ")\n",
    "i_lines = i.copy()\n",
    "for l in lines:\n",
    "    xl,y1,x2,y2 = l(0)\n",
    "    cv2.line(i_lines, (x1, y1), (x2,y2), (0,0,255, thickness=3))\n",
    "view_image(i_lines)"
   ]
  },
  {
   "cell_type": "markdown",
   "metadata": {},
   "source": [
    "Hough transform for circles\n"
   ]
  },
  {
   "cell_type": "code",
   "execution_count": null,
   "metadata": {},
   "outputs": [],
   "source": [
    "circles = cv2.HoughCircles(\n",
    "    i_gray,\n",
    "    method=cv2.HOUGH_GRADIENT,\n",
    "    dp=2,\n",
    "    minDist=35,\n",
    "    param1 = 150,\n",
    "    param2=40,\n",
    "    minRadius=15,\n",
    "    maxRadius=25,\n",
    ")\n",
    "i_circles = i.copy()\n",
    "for x,y,r in circles[0]:\n",
    "    cv2.circles(\n",
    "        i_circles,\n",
    "        (x,y),\n",
    "        int(r),\n",
    "        (0,0,255),\n",
    "        thickness=3\n",
    "    )\n",
    "view_image(i_circles)"
   ]
  },
  {
   "cell_type": "markdown",
   "metadata": {},
   "source": [
    "Blur the image first"
   ]
  },
  {
   "cell_type": "code",
   "execution_count": null,
   "metadata": {},
   "outputs": [],
   "source": [
    "i_blurred = cv2.GaussianBlur(\n",
    "    i_gray,\n",
    "    ksize=(21,21),\n",
    "    sigmaX=0,\n",
    ")\n",
    "view_image(i_blurred)"
   ]
  },
  {
   "cell_type": "markdown",
   "metadata": {},
   "source": [
    "Circle detection on blurred image"
   ]
  },
  {
   "cell_type": "code",
   "execution_count": null,
   "metadata": {},
   "outputs": [],
   "source": []
  },
  {
   "cell_type": "code",
   "execution_count": null,
   "metadata": {},
   "outputs": [],
   "source": [
    "circles = cv2.HoughCircles(\n",
    "    i_blurred,\n",
    "    method=cv2.HOUGH_GRADIENT,\n",
    "    dp=2,\n",
    "    minDist=35,\n",
    "    param1 = 150,\n",
    "    param2=40,\n",
    "    minRadius=15,\n",
    "    maxRadius=25,\n",
    ")\n",
    "i_circles = i.copy()\n",
    "for x,y,r in circles[0]:\n",
    "    cv2.circles(\n",
    "        i_circles,\n",
    "        (x,y),\n",
    "        int(r),\n",
    "        (0,0,255),\n",
    "        thickness=3\n",
    "    )\n",
    "view_image(i_circles)"
   ]
  },
  {
   "cell_type": "code",
   "execution_count": null,
   "metadata": {},
   "outputs": [],
   "source": []
  }
 ],
 "metadata": {
  "kernelspec": {
   "display_name": "Python 3",
   "language": "python",
   "name": "python3"
  },
  "language_info": {
   "codemirror_mode": {
    "name": "ipython",
    "version": 3
   },
   "file_extension": ".py",
   "mimetype": "text/x-python",
   "name": "python",
   "nbconvert_exporter": "python",
   "pygments_lexer": "ipython3",
   "version": "3.6.9"
  }
 },
 "nbformat": 4,
 "nbformat_minor": 4
}
